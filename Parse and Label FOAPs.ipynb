{
 "cells": [
  {
   "cell_type": "code",
   "execution_count": 2,
   "id": "a2bbb738",
   "metadata": {},
   "outputs": [],
   "source": [
    "import pandas as pd\n",
    "import numpy as np"
   ]
  },
  {
   "cell_type": "markdown",
   "id": "dba33101",
   "metadata": {},
   "source": [
    "These are the two files that will contain all of the information. We will add to them. "
   ]
  },
  {
   "cell_type": "code",
   "execution_count": 3,
   "id": "da3bb25a",
   "metadata": {},
   "outputs": [],
   "source": [
    "fin_aid = pd.read_csv(\"data_files/Current Designations Student Financial Aid.csv\")\n",
    "advanced_find = pd.read_csv(\"data_files/Current Designations Advanced Find View.csv\")"
   ]
  },
  {
   "cell_type": "markdown",
   "id": "3faf9877",
   "metadata": {},
   "source": [
    "These are the files we pull the FOAP information from"
   ]
  },
  {
   "cell_type": "code",
   "execution_count": 4,
   "id": "8b704e37",
   "metadata": {},
   "outputs": [],
   "source": [
    "fund_codes = pd.read_csv(\"data_files/All Acct Code - Funds.csv\")\n",
    "org_codes = pd.read_csv(\"data_files/All Acct Code - Org.csv\")\n",
    "acct_codes = pd.read_csv(\"data_files/All Acct Code - Acct Codes.csv\")\n",
    "prog_codes = pd.read_csv(\"data_files/All Acct Code - Program Codes.csv\")"
   ]
  },
  {
   "cell_type": "code",
   "execution_count": 9,
   "id": "5541dadb",
   "metadata": {},
   "outputs": [],
   "source": [
    "def parse_match_foaps(in_primary_df, fund_codes, org_codes, acct_codes, prog_codes):\n",
    "    \n",
    "    \n",
    "    in_primary_df.reset_index()\n",
    "    in_primary_df['fund_code'] = ''\n",
    "    in_primary_df['fund_name'] = ''\n",
    "    in_primary_df['org_code'] = ''\n",
    "    in_primary_df['org_name'] = ''\n",
    "    in_primary_df['acct_code'] = ''\n",
    "    in_primary_df['acct_name'] = ''\n",
    "    in_primary_df['prog_code'] = ''\n",
    "    in_primary_df['prog_name'] = ''\n",
    "    in_primary_df['Credit Account'] = advanced_find['Credit Account'].replace(np.NaN, \" \")\n",
    "    \n",
    "    \n",
    "    \n",
    "    for index, row in in_primary_df.iterrows():\n",
    "\n",
    "        long_code = row['Credit Account']\n",
    "        if len(long_code) > 2:\n",
    "            long_code = row['Credit Account'].replace(\"^\", \"\").split('|')\n",
    "\n",
    "            fund_num = long_code[3]\n",
    "            org_num = long_code[4]\n",
    "            acct_num = long_code[5]\n",
    "            prog_num = long_code[6]\n",
    "\n",
    "            in_primary_df.at[index, 'fund_code'] = fund_num\n",
    "            in_primary_df.at[index, 'org_code'] = org_num\n",
    "            in_primary_df.at[index, 'acct_code'] = acct_num\n",
    "            in_primary_df.at[index, 'prog_code'] = prog_num\n",
    "\n",
    "            in_primary_df.at[index, 'fund_name'] = \\\n",
    "                tuple(fund_codes.loc[fund_codes['\\'Fund Code\\''] == fund_num, '\\'Title\\''])[-1]\n",
    "\n",
    "            if len(org_num) > 0:\n",
    "                in_primary_df.at[index, 'org_name'] = \\\n",
    "                    tuple(org_codes.loc[org_codes['\\'Organization Code\\''] == int(org_num), '\\'Title\\''])[-1]    \n",
    "\n",
    "            if len(acct_num) > 0:\n",
    "                in_primary_df.at[index, 'acct_name'] = \\\n",
    "                    tuple(acct_codes.loc[acct_codes['\\'Account Code\\''] == int(acct_num), '\\'Title\\''])[-1]\n",
    "\n",
    "            if len(prog_num) > 0:\n",
    "                in_primary_df.at[index, 'prog_name'] = \\\n",
    "                    tuple(prog_codes.loc[prog_codes['\\'Program Code\\''] == int(prog_num), '\\'Title\\''])[-1]        \n",
    "\n",
    "        else:\n",
    "            #print(\"\\nNo code!\")\n",
    "            pass\n",
    "    return in_primary_df\n"
   ]
  },
  {
   "cell_type": "code",
   "execution_count": 13,
   "id": "c82e9926",
   "metadata": {},
   "outputs": [],
   "source": [
    "parse_match_foaps(advanced_find, fund_codes, org_codes, acct_codes, prog_codes)\\\n",
    "    .to_csv(\"output/Current Designations Advanced Find View With FOAPs.csv\", index = False)\n",
    "parse_match_foaps(fin_aid, fund_codes, org_codes, acct_codes, prog_codes)\\\n",
    "    .to_csv(\"output/Current Designations Student Financial Aid With Foaps.csv\", index = False)"
   ]
  }
 ],
 "metadata": {
  "kernelspec": {
   "display_name": "Python 3 (ipykernel)",
   "language": "python",
   "name": "python3"
  },
  "language_info": {
   "codemirror_mode": {
    "name": "ipython",
    "version": 3
   },
   "file_extension": ".py",
   "mimetype": "text/x-python",
   "name": "python",
   "nbconvert_exporter": "python",
   "pygments_lexer": "ipython3",
   "version": "3.10.4"
  }
 },
 "nbformat": 4,
 "nbformat_minor": 5
}
