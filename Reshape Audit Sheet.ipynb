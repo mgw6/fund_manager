{
 "cells": [
  {
   "cell_type": "code",
   "execution_count": 1,
   "id": "ff62995c",
   "metadata": {},
   "outputs": [],
   "source": [
    "import pandas as pd\n",
    "import numpy as np\n",
    "from joblib import Parallel, delayed"
   ]
  },
  {
   "cell_type": "code",
   "execution_count": 2,
   "id": "7f8d19e3",
   "metadata": {},
   "outputs": [],
   "source": [
    "orgs_column = pd.read_csv(\"data_files/fomprof-audit-20220318-Fund-Org-ADV - Orgs.csv\")\n",
    "funds_column = pd.read_csv(\"data_files/fomprof-audit-20220318-Fund-Org-ADV - Funds.csv\")"
   ]
  },
  {
   "cell_type": "code",
   "execution_count": 13,
   "id": "8d64fcd3",
   "metadata": {},
   "outputs": [
    {
     "data": {
      "text/plain": [
       "\"\\nThis caused errors in the next block\\nI deleted the four cells that said '(blank)' by hand\\n\""
      ]
     },
     "execution_count": 13,
     "metadata": {},
     "output_type": "execute_result"
    }
   ],
   "source": [
    "#The Funds file had some random cells with \"(blank), \" in them that need to be removed\n",
    "#funds_column.drop(funds_column.index[funds_column['Row Labels'] == '(blank)'], inplace = True)\n",
    "\"\"\"\n",
    "This caused errors in the next block\n",
    "I deleted the four cells that said '(blank)' by hand\n",
    "\"\"\""
   ]
  },
  {
   "cell_type": "code",
   "execution_count": 8,
   "id": "0be27173",
   "metadata": {},
   "outputs": [],
   "source": [
    "def make_series(in_person_list, num_columns):\n",
    "    \n",
    "    temp_series = pd.Series({\n",
    "        'Username' : in_person_list[0],\n",
    "        'Full Name': in_person_list[1]\n",
    "    })\n",
    "\n",
    "    count = 1\n",
    "    for element in in_person_list[2:]:\n",
    "        col_name = \"Num \" + str(count)\n",
    "        temp_series = \\\n",
    "            temp_series.append(pd.Series({\n",
    "                col_name : element\n",
    "            }))\n",
    "        count +=1\n",
    "\n",
    "    for x in range(count, num_columns):\n",
    "        col_name = \"Num \" + str(x)\n",
    "        temp_series = \\\n",
    "            temp_series.append(pd.Series({\n",
    "                col_name : pd.NA\n",
    "            }))\n",
    "        count +=1\n",
    "        \n",
    "    return temp_series\n",
    "        \n",
    "\n",
    "def break_column(in_column_df):\n",
    "    list_of_lists = []\n",
    "    temp_list = []\n",
    "    first_of_two = True\n",
    "    count = 0\n",
    "    max_elements = 0\n",
    "    \n",
    "    for index, row in in_column_df.iterrows():\n",
    "        current_element = in_column_df.iloc[index, 0]\n",
    "        try: #its an account number\n",
    "            temp_list.append(int(current_element))\n",
    "            count += 1\n",
    "\n",
    "        except: #We've reached a new individual\n",
    "            if first_of_two:\n",
    "                list_of_lists.append(temp_list.copy())\n",
    "                temp_list = [current_element]\n",
    "                first_of_two = not first_of_two\n",
    "                if count > max_elements:\n",
    "                    max_elements = count\n",
    "                count = 0\n",
    "            else:\n",
    "                temp_list.append(current_element)\n",
    "                first_of_two = not first_of_two\n",
    "    \n",
    "    list_of_lists.pop(0) \n",
    "    #Because of the boolean logic abvoe, the first list is always empty\n",
    "    \n",
    "    \n",
    "    list_of_lists = Parallel(n_jobs = -1, batch_size = 5)(\n",
    "        delayed(make_series)(person_list, max_elements) for person_list in list_of_lists)\n",
    "    #Probably overkill, it was already pretty fast in series\n",
    "    \n",
    "    return pd.DataFrame(list_of_lists)"
   ]
  },
  {
   "cell_type": "code",
   "execution_count": 9,
   "id": "025fe3e0",
   "metadata": {},
   "outputs": [],
   "source": [
    "orgs_df = break_column(orgs_column)\n",
    "funds_df = break_column(funds_column)"
   ]
  },
  {
   "cell_type": "code",
   "execution_count": 10,
   "id": "991cf24e",
   "metadata": {},
   "outputs": [],
   "source": [
    "staff_titles = pd.read_excel(\"data_files/Employees Security Rights 2 Funds.xlsx\")"
   ]
  },
  {
   "cell_type": "code",
   "execution_count": 11,
   "id": "0b438d3b",
   "metadata": {},
   "outputs": [],
   "source": [
    "orgs_df = pd.merge(staff_titles, orgs_df, left_on = \"Banner Finance User ID\", right_on = \"Username\")\\\n",
    "    .drop(['Full Name', 'Emp ID', 'Position Number', 'Banner Finance User ID'], axis = 1)\n",
    "funds_df = pd.merge(staff_titles, funds_df, left_on = \"Banner Finance User ID\", right_on = \"Username\")\\\n",
    "    .drop(['Full Name', 'Emp ID', 'Position Number', 'Banner Finance User ID'], axis = 1)"
   ]
  },
  {
   "cell_type": "code",
   "execution_count": 12,
   "id": "301bab97",
   "metadata": {
    "scrolled": false
   },
   "outputs": [],
   "source": [
    "orgs_df.to_csv(\"output/fomprof-aduit-Orgs.csv\", index = False)\n",
    "funds_df.to_csv(\"output/fomprof-aduit-Funds.csv\", index = False)"
   ]
  }
 ],
 "metadata": {
  "kernelspec": {
   "display_name": "Python 3 (ipykernel)",
   "language": "python",
   "name": "python3"
  },
  "language_info": {
   "codemirror_mode": {
    "name": "ipython",
    "version": 3
   },
   "file_extension": ".py",
   "mimetype": "text/x-python",
   "name": "python",
   "nbconvert_exporter": "python",
   "pygments_lexer": "ipython3",
   "version": "3.10.4"
  }
 },
 "nbformat": 4,
 "nbformat_minor": 5
}
